{
 "cells": [
  {
   "attachments": {},
   "cell_type": "markdown",
   "metadata": {},
   "source": [
    "# Introduction"
   ]
  },
  {
   "attachments": {},
   "cell_type": "markdown",
   "metadata": {},
   "source": [
    "Begin with some imports"
   ]
  },
  {
   "cell_type": "code",
   "execution_count": 1,
   "metadata": {},
   "outputs": [],
   "source": [
    "from pprint import pformat, pprint\n",
    "\n",
    "from torchradio import Receiver, Transmitter\n",
    "from torchradio.algorithm import Modem\n",
    "from torchradio.env import PlanarEnvironment\n",
    "from torchradio.position import get_null_distribution, get_uniform_distribution"
   ]
  },
  {
   "attachments": {},
   "cell_type": "markdown",
   "metadata": {},
   "source": [
    "Define an environment to simulate with dimensions 100 x 100. We will assume a planar environment. At initialization, there are no devices in the environment."
   ]
  },
  {
   "cell_type": "code",
   "execution_count": 2,
   "metadata": {},
   "outputs": [
    {
     "name": "stdout",
     "output_type": "stream",
     "text": [
      "Bounds: Bounds3D(x_max=100, y_max=100, z_max=0)\n",
      "Devices: {'receivers': {}, 'transmitters': {}}\n"
     ]
    }
   ],
   "source": [
    "env = PlanarEnvironment(x_max=100, y_max=100)\n",
    "print(f\"Bounds: {env.bounds}\")\n",
    "print(f\"Devices: {pformat(env.devices)}\")"
   ]
  },
  {
   "attachments": {},
   "cell_type": "markdown",
   "metadata": {},
   "source": [
    "Let's define some devices for our environment. We will use the pre-built `Modem` class to make it easier to define devices. Each device needs to be specified with a so-called \"Spatial Distribution\". For each simulation, we will simulate the device's position according to this distribution.\n",
    "\n",
    "As an example, the next block defines a simple QPSK transmitter. The transmitter's position is sampled uniformly from a 10 x 20 metre rectangle located at (30, 40)."
   ]
  },
  {
   "cell_type": "code",
   "execution_count": 3,
   "metadata": {},
   "outputs": [
    {
     "name": "stdout",
     "output_type": "stream",
     "text": [
      "<torchradio.device.Transmitter object at 0x7f6df4102c90>\n"
     ]
    }
   ],
   "source": [
    "algorithm = Modem(\"psk\", 4).tx  # combine modem with Modem class and isolate the\n",
    "spatial_distribution = get_uniform_distribution([25, 35], [30, 50], [0, 0])\n",
    "qpsk_transmitter = Transmitter(algorithm, spatial_distribution)\n",
    "print(qpsk_transmitter)"
   ]
  },
  {
   "attachments": {},
   "cell_type": "markdown",
   "metadata": {},
   "source": [
    "Note that a `Transmitter` can be defined with a `max_gain` parameter. Any transmissions that violate this gain will saturate the transmission."
   ]
  },
  {
   "attachments": {},
   "cell_type": "markdown",
   "metadata": {},
   "source": [
    "Calling `device.place()` will randomly sample a new position for the device according to its spatial distribution"
   ]
  },
  {
   "cell_type": "code",
   "execution_count": 4,
   "metadata": {},
   "outputs": [
    {
     "name": "stdout",
     "output_type": "stream",
     "text": [
      "Placement 0: Position(x=25.208818, y=38.12274, z=0.0)\n",
      "Placement 1: Position(x=28.343914, y=41.070465, z=0.0)\n",
      "Placement 2: Position(x=29.90762, y=47.56172, z=0.0)\n",
      "Placement 3: Position(x=32.97873, y=42.237152, z=0.0)\n",
      "Placement 4: Position(x=33.996162, y=39.393585, z=0.0)\n"
     ]
    }
   ],
   "source": [
    "for i in range(5):\n",
    "    print(f\"Placement {i}: {qpsk_transmitter.place()}\")"
   ]
  },
  {
   "attachments": {},
   "cell_type": "markdown",
   "metadata": {},
   "source": [
    "We can use `get_null_distribution` if we want a device to be pinned to a single location."
   ]
  },
  {
   "cell_type": "code",
   "execution_count": 5,
   "metadata": {},
   "outputs": [
    {
     "name": "stdout",
     "output_type": "stream",
     "text": [
      "Placement 0: Position(x=30, y=40, z=0)\n",
      "Placement 1: Position(x=30, y=40, z=0)\n",
      "Placement 2: Position(x=30, y=40, z=0)\n",
      "Placement 3: Position(x=30, y=40, z=0)\n",
      "Placement 4: Position(x=30, y=40, z=0)\n"
     ]
    }
   ],
   "source": [
    "spatial_distribution = get_null_distribution(30, 40)\n",
    "qpsk_transmitter = Transmitter(algorithm, spatial_distribution)\n",
    "for i in range(5):\n",
    "    print(f\"Placement {i}: {qpsk_transmitter.place()}\")"
   ]
  },
  {
   "attachments": {},
   "cell_type": "markdown",
   "metadata": {},
   "source": [
    "To create an interesting simulation environment with multiple transmitters and receivers, we first create dictionaries to house the device definitions. Note that the current use of `Modem` with overlapping centre frequencies and constellations will lead to incoherent receiver outputs. We will look at using more sensible algorithms later on."
   ]
  },
  {
   "cell_type": "code",
   "execution_count": 6,
   "metadata": {},
   "outputs": [
    {
     "name": "stdout",
     "output_type": "stream",
     "text": [
      "Transmitters: ['tx_1', 'tx_2', 'tx_3', 'tx_4']\n",
      "Receivers: ['rx_1', 'rx_2', 'rx_3']\n"
     ]
    }
   ],
   "source": [
    "transmitters = {\n",
    "    \"tx_1\": Transmitter(Modem(\"psk\", 4).tx, get_null_distribution(10, 10), 2),\n",
    "    \"tx_2\": Transmitter(Modem(\"psk\", 8).tx, get_null_distribution(20, 10), 3),\n",
    "    \"tx_3\": Transmitter(Modem(\"qam\", 4).tx, get_null_distribution(50, 80), 8),\n",
    "    \"tx_4\": Transmitter(Modem(\"psk\", 4).tx, get_null_distribution(20, 70)),\n",
    "}\n",
    "\n",
    "receivers = {\n",
    "    \"rx_1\": Receiver(Modem(\"psk\", 4).rx, get_null_distribution(10, 10)),\n",
    "    \"rx_2\": Receiver(Modem(\"psk\", 8).rx, get_null_distribution(20, 10)),\n",
    "    \"rx_3\": Receiver(Modem(\"qam\", 4).rx, get_null_distribution(50, 80)),\n",
    "}\n",
    "\n",
    "print(f\"Transmitters: {list(transmitters.keys())}\")\n",
    "print(f\"Receivers: {list(receivers.keys())}\")"
   ]
  },
  {
   "attachments": {},
   "cell_type": "markdown",
   "metadata": {},
   "source": [
    "We can now run place the devices in the environment. Notice the updated output from `env.devices`. "
   ]
  },
  {
   "cell_type": "code",
   "execution_count": 7,
   "metadata": {},
   "outputs": [
    {
     "name": "stdout",
     "output_type": "stream",
     "text": [
      "{'receivers': {'rx_1': Position(x=10, y=10, z=0),\n",
      "               'rx_2': Position(x=20, y=10, z=0),\n",
      "               'rx_3': Position(x=50, y=80, z=0)},\n",
      " 'transmitters': {'tx_1': Position(x=10, y=10, z=0),\n",
      "                  'tx_2': Position(x=20, y=10, z=0),\n",
      "                  'tx_3': Position(x=50, y=80, z=0),\n",
      "                  'tx_4': Position(x=20, y=70, z=0)}}\n"
     ]
    }
   ],
   "source": [
    "env.place(transmitters, receivers)\n",
    "pprint(env.devices)"
   ]
  },
  {
   "attachments": {},
   "cell_type": "markdown",
   "metadata": {},
   "source": [
    "We can remove devices from the environment by called `env.reset()`"
   ]
  },
  {
   "cell_type": "code",
   "execution_count": 8,
   "metadata": {},
   "outputs": [
    {
     "name": "stdout",
     "output_type": "stream",
     "text": [
      "{'receivers': {}, 'transmitters': {}}\n"
     ]
    }
   ],
   "source": [
    "env.reset()\n",
    "pprint(env.devices)"
   ]
  },
  {
   "attachments": {},
   "cell_type": "markdown",
   "metadata": {},
   "source": [
    "Let's re-add the devices to the environment and run a simulation! `env.simulate` takes a single argument `n_timesteps` that determines how long the simulation will run for."
   ]
  },
  {
   "cell_type": "code",
   "execution_count": 9,
   "metadata": {},
   "outputs": [],
   "source": [
    "env.place(transmitters, receivers)\n",
    "device_logs = env.simulate(100)"
   ]
  },
  {
   "attachments": {},
   "cell_type": "markdown",
   "metadata": {},
   "source": [
    "The device logs can be used to compute losses and update trainable algorithms. These logs may also be used for analytical purposes to determine the performance characteristics of different algorithms."
   ]
  }
 ],
 "metadata": {
  "kernelspec": {
   "display_name": "venv",
   "language": "python",
   "name": "python3"
  },
  "language_info": {
   "codemirror_mode": {
    "name": "ipython",
    "version": 3
   },
   "file_extension": ".py",
   "mimetype": "text/x-python",
   "name": "python",
   "nbconvert_exporter": "python",
   "pygments_lexer": "ipython3",
   "version": "3.11.5"
  },
  "orig_nbformat": 4
 },
 "nbformat": 4,
 "nbformat_minor": 2
}
